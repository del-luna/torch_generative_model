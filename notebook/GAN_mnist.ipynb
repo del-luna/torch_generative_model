{
 "cells": [
  {
   "cell_type": "code",
   "execution_count": null,
   "metadata": {},
   "outputs": [],
   "source": [
    "from google.colab import drive\n",
    "drive.mount('/gdrive', force_remount=True)"
   ]
  },
  {
   "cell_type": "code",
   "execution_count": null,
   "metadata": {},
   "outputs": [],
   "source": [
    "import tensorflow as tf\n",
    "import matplotlib.pyplot as plt\n",
    "import numpy as np\n",
    "from tensorflow.examples.tutorials.mnist import input_data\n",
    "mnist = input_data.read_data_sets(\"./mnist/data/\", one_hot=True)"
   ]
  },
  {
   "cell_type": "code",
   "execution_count": null,
   "metadata": {},
   "outputs": [],
   "source": [
    "total_epochs = 100\n",
    "batch_size = 100\n",
    "learning_rate = 0.0002\n",
    "n_latent = 128 # generator input으로 사용할 size of noise\n",
    "n_hidden = 256\n",
    "n_input = 28*28"
   ]
  },
  {
   "cell_type": "code",
   "execution_count": null,
   "metadata": {},
   "outputs": [],
   "source": [
    "#Generator는 output으로 fake mnist image를 출력\n",
    "with tf.variable_scope('generator'):\n",
    "  G_W1 = tf.Variable(tf.random_normal([n_latent, n_hidden], stddev=0.01))\n",
    "  G_b1 = tf.Variable(tf.zeros([n_hidden]))\n",
    "  G_W2 = tf.Variable(tf.random_normal([n_hidden, n_input], stddev=0.01))\n",
    "  G_b2 = tf.Variable(tf.zeros([n_input]))\n",
    "\n",
    "#Discriminator는 fake image와 real image를 구분하여 real image일 확률을 출력\n",
    "with tf.variable_scope('discriminator'):\n",
    "  D_W1 = tf.Variable(tf.random_normal([n_input, n_hidden], stddev=0.01))\n",
    "  D_b1 = tf.Variable(tf.zeros([n_hidden]))\n",
    "  D_W2 = tf.Variable(tf.random_normal([n_hidden, 1], stddev=0.01))\n",
    "  D_b2 = tf.Variable(tf.zeros([1]))"
   ]
  },
  {
   "cell_type": "code",
   "execution_count": null,
   "metadata": {},
   "outputs": [],
   "source": [
    "def random_noise(batch_size):\n",
    "  return np.random.normal(size=[batch_size,n_latent])\n",
    "\n",
    "def generator(X):\n",
    "  hidden_layer = tf.nn.relu(tf.matmul(X,G_W1)+G_b1)\n",
    "  fake_image = tf.nn.sigmoid(tf.matmul(hidden_layer,G_W2)+G_b2)\n",
    "  return fake_image\n",
    "\n",
    "def discriminator(X):\n",
    "  hidden_layer = tf.nn.relu(tf.matmul(X,D_W1)+D_b1)\n",
    "  predict = tf.nn.sigmoid(tf.matmul(hidden_layer,D_W2)+D_b1)\n",
    "  return predict"
   ]
  },
  {
   "cell_type": "code",
   "execution_count": null,
   "metadata": {},
   "outputs": [],
   "source": [
    "X = tf.placeholder(tf.float32, [None, n_input])\n",
    "Z = tf.placeholder(tf.float32, [None, n_latent])\n",
    "\n",
    "G_z = generator(Z)\n",
    "D_fake = discriminator(G_z) # generator가 생성한 fake image에 대한 discriminator output\n",
    "D_real = discriminator(X) # real image에 대한 discriminator output\n",
    "\n",
    "#G는 Discriminator를 속여야 한다.\n",
    "G_loss = tf.reduce_mean(tf.nn.sigmoid_cross_entropy_with_logits(logits = D_fake, labels=tf.ones_like(D_fake)))\n",
    "\n",
    "#D는 fake image에 대해서는 낮은 확률, real image에 대해서는 높은 확률을 출력해야 한다.\n",
    "# Label * -log(logits) + (1 - Label) * -log(1 - logits)에 대하여 식을 넣어보자\n",
    "# Label = 0 일 때는 fake image인 경우, logits이 0으로 가야 loss가 낮아진다.\n",
    "# Label = 1 일 때는 real image인 경우, logits이 1로 가야 loss가 낮아진다.\n",
    "D_fake_loss = tf.reduce_mean(tf.nn.sigmoid_cross_entropy_with_logits(logits = D_fake, labels = tf.zeros_like(D_fake)))\n",
    "D_real_loss = tf.reduce_mean(tf.nn.sigmoid_cross_entropy_with_logits(logits = D_real, labels = tf.ones_like(D_real)))\n",
    "\n",
    "D_loss = D_real_loss + D_fake_loss\n",
    "\n",
    "tvar = tf.trainable_variables()\n",
    "dvar = [var for var in tvar if 'discriminator' in var.name]\n",
    "gvar = [var for var in tvar if 'generator' in var.name]\n",
    "\n",
    "D_optim = tf.train.AdamOptimizer(learning_rate).minimize(D_loss, var_list=dvar)\n",
    "G_optim = tf.train.AdamOptimizer(learning_rate).minimize(G_loss, var_list=gvar)"
   ]
  },
  {
   "cell_type": "code",
   "execution_count": null,
   "metadata": {},
   "outputs": [],
   "source": [
    "with tf.Session() as sess:\n",
    "  sess.run(tf.global_variables_initializer())\n",
    "  total_batch = int(mnist.train.num_examples/batch_size)\n",
    "  loss_val_D, loss_val_G = 0, 0\n",
    "\n",
    "  for epoch in range(total_epochs):\n",
    "    for i in range(total_batch):\n",
    "      batch_X, _ = mnist.train.next_batch(batch_size)\n",
    "      noise = random_noise(batch_size)\n",
    "\n",
    "      _, loss_val_D = sess.run([D_optim, D_loss],\n",
    "                             feed_dict={X:batch_X, Z:noise})\n",
    "      _, loss_val_G = sess.run([G_optim, G_loss],\n",
    "                             feed_dict={Z:noise})\n",
    "    \n",
    "      print(\"=======Epoch : \", epoch , \" =======================================\")\n",
    "      print('D loss: {:.4}'.format(loss_val_D))\n",
    "      print('G loss: {:.4}'.format(loss_val_G))\n",
    "\n",
    "      if epoch == 0 or (epoch + 1) % 10 == 0:\n",
    "        sample_size = 10\n",
    "        noise = random_noise(sample_size)\n",
    "        sample = sess.run(G_z, feed_dict={Z:noise})\n",
    "\n",
    "        fig, ax = plt.subplots(1, sample_size, figsize=(sample_size, 1))\n",
    "\n",
    "        for i in range(sample_size):\n",
    "          ax[i].set_axis_off()\n",
    "          ax[i].imshow(np.reshape(sample[i],(28,28)))\n",
    "\n",
    "        plt.savefig('/gdrive/My Drive/Simple_GAN/{}.png'.format(str(epoch).zfill(3)),bbox_inches='tight')\n",
    "        plt.close(fig)\n",
    "\n",
    "print('Complete!')"
   ]
  }
 ],
 "metadata": {
  "kernelspec": {
   "display_name": "Python 3",
   "language": "python",
   "name": "python3"
  },
  "language_info": {
   "codemirror_mode": {
    "name": "ipython",
    "version": 3
   },
   "file_extension": ".py",
   "mimetype": "text/x-python",
   "name": "python",
   "nbconvert_exporter": "python",
   "pygments_lexer": "ipython3",
   "version": "3.6.5"
  }
 },
 "nbformat": 4,
 "nbformat_minor": 2
}
